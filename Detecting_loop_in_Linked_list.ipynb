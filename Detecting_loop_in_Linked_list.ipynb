{
  "nbformat": 4,
  "nbformat_minor": 0,
  "metadata": {
    "colab": {
      "provenance": [],
      "authorship_tag": "ABX9TyPN+q+Kh4MHO4CXjKy7Fp3O",
      "include_colab_link": true
    },
    "kernelspec": {
      "name": "python3",
      "display_name": "Python 3"
    },
    "language_info": {
      "name": "python"
    }
  },
  "cells": [
    {
      "cell_type": "markdown",
      "metadata": {
        "id": "view-in-github",
        "colab_type": "text"
      },
      "source": [
        "<a href=\"https://colab.research.google.com/github/F19991375/Python_Advanced_Concepts/blob/main/Detecting_loop_in_Linked_list.ipynb\" target=\"_parent\"><img src=\"https://colab.research.google.com/assets/colab-badge.svg\" alt=\"Open In Colab\"/></a>"
      ]
    },
    {
      "cell_type": "code",
      "execution_count": 2,
      "metadata": {
        "id": "bN0i-54nzLDC"
      },
      "outputs": [],
      "source": [
        "class Node:\n",
        "  def __init__(self, data):\n",
        "    self.data = data\n",
        "    self.next = None\n",
        ""
      ]
    },
    {
      "cell_type": "code",
      "source": [
        "class Linked_list:\n",
        "\n",
        "  def __init__(self):\n",
        "    self.head = None\n",
        "    self.length = 0\n",
        "\n",
        "  def push(self, data):\n",
        "    new_node = Node(data)\n",
        "    new_node.next = self.head\n",
        "    self.head = new_node\n",
        "    self.length += 1\n",
        "\n",
        "  def append(self, data):\n",
        "    new_node = Node(data)\n",
        "    temp = self.head\n",
        "    while temp.next:\n",
        "      temp = temp.next\n",
        "    else:\n",
        "      temp.next = self.head\n",
        "    self.length += 1\n",
        "\n",
        "  def insert(self, index, data):\n",
        "    if index <= 0:\n",
        "      self.push(data)\n",
        "    elif index >= self.length:\n",
        "      self.append(data)\n",
        "    else:\n",
        "      temp = pre = self.head\n",
        "      while index:\n",
        "        pre = temp\n",
        "        temp = temp.next\n",
        "        index -= 1\n",
        "      else:\n",
        "        new_node = Node(data)\n",
        "        new_node.next = temp\n",
        "        pre.next = new_node\n",
        "        self.length += 1\n",
        "  def pop(self, index = -1):\n",
        "    if index == -1:#pop from the last\n",
        "      temp = self.head\n",
        "      while temp.next.next:\n",
        "        temp = temp.next\n",
        "      data = temp.next.data\n",
        "      temp.next = None\n",
        "      self.length -= 1\n",
        "      return data\n",
        "    elif index == 0:#pop from the begining\n",
        "      data = self.head.data\n",
        "      self.head = self.head.next\n",
        "      self.length -= 1\n",
        "      return self\n",
        "    else:\n",
        "      temp = self.head\n",
        "      while index:\n",
        "        temp = temp.next\n",
        "        index -= 1\n",
        "      else:\n",
        "        data = temp.data\n",
        "        temp.next = temp.next.next\n",
        "        self.length -= 1\n",
        "        return data\n",
        "\n",
        "  def __repr__(self):\n",
        "    _str = \"\"\n",
        "    temp = self.head\n",
        "    while temp.next:\n",
        "      _str += str(temp.data) + \"->\"\n",
        "      temp = temp.next\n",
        "    else:\n",
        "      _str += str(temp.data)\n",
        "    return _str\n",
        "\n",
        "  def len(self):\n",
        "    return self.length\n",
        "\n",
        "  def isempty(self):\n",
        "    return self.length == 0\n",
        "\n",
        "  def reverse(self):\n",
        "    pre = None\n",
        "    cur = self.head\n",
        "    while cur:\n",
        "      _next = cur.next\n",
        "      cur.next = pre\n",
        "      pre = cur\n",
        "      cur = _next\n",
        "    self.head = pre\n",
        "\n",
        "  def hasloop(self):\n",
        "    loop_set = set()\n",
        "    temp = self.head\n",
        "    while temp.next:\n",
        "      if temp not in loop_set:\n",
        "        loop_set.add(temp)\n",
        "        temp = temp.next\n",
        "      else:\n",
        "        return True\n",
        "    else:\n",
        "      return False\n",
        "\n",
        "  def floydCycle(self):\n",
        "    slow = fast = self.head\n",
        "    while slow and fast and fast.next:\n",
        "      slow = slow.next\n",
        "      fast = fast.next.next\n",
        "      if slow == fast:\n",
        "        return True\n",
        "    else:\n",
        "      return False"
      ],
      "metadata": {
        "id": "0QDaZGoXzrqz"
      },
      "execution_count": 3,
      "outputs": []
    },
    {
      "cell_type": "code",
      "source": [
        "ll = Linked_list()\n",
        "first = Node(5)\n",
        "first.next = Node(2)\n",
        "first.next.next = Node(1)\n",
        "first.next.next.next = Node(2)\n",
        "first.next.next.next.next = Node(7)\n",
        "first.next.next.next.next.next = first.next\n",
        "ll.head = first\n",
        "#print(ll) It will be in an infinite loop since the linked_list has got a cycle inside itself\n",
        "print(ll.floydCycle())\n",
        "%timeit ll.floydCycle()\n",
        "print(ll.hasloop())\n",
        "%timeit ll.hasloop()\n",
        "print(\"So floydcycle is better than hasloop\")\n"
      ],
      "metadata": {
        "colab": {
          "base_uri": "https://localhost:8080/"
        },
        "id": "sdz6KhrDImQL",
        "outputId": "068a5104-6d25-44d5-d220-c8bfdeb4e10f"
      },
      "execution_count": 9,
      "outputs": [
        {
          "output_type": "stream",
          "name": "stdout",
          "text": [
            "True\n",
            "750 ns ± 204 ns per loop (mean ± std. dev. of 7 runs, 1000000 loops each)\n",
            "True\n",
            "1.14 µs ± 265 ns per loop (mean ± std. dev. of 7 runs, 1000000 loops each)\n",
            "So floydcycle is better than hasloop\n"
          ]
        }
      ]
    }
  ]
}