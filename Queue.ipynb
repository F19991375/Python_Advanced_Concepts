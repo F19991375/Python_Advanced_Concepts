{
  "nbformat": 4,
  "nbformat_minor": 0,
  "metadata": {
    "colab": {
      "provenance": [],
      "authorship_tag": "ABX9TyM/Xvc977ME/mRvgKZPCPe4",
      "include_colab_link": true
    },
    "kernelspec": {
      "name": "python3",
      "display_name": "Python 3"
    },
    "language_info": {
      "name": "python"
    }
  },
  "cells": [
    {
      "cell_type": "markdown",
      "metadata": {
        "id": "view-in-github",
        "colab_type": "text"
      },
      "source": [
        "<a href=\"https://colab.research.google.com/github/F19991375/Python_Advanced_Concepts/blob/main/Queue.ipynb\" target=\"_parent\"><img src=\"https://colab.research.google.com/assets/colab-badge.svg\" alt=\"Open In Colab\"/></a>"
      ]
    },
    {
      "cell_type": "code",
      "execution_count": null,
      "metadata": {
        "colab": {
          "base_uri": "https://localhost:8080/"
        },
        "id": "mqItH7a9Pcvz",
        "outputId": "d8bf7fbc-1451-488d-8ad0-155f78a536a0"
      },
      "outputs": [
        {
          "output_type": "stream",
          "name": "stdout",
          "text": [
            "[2, 5]\n",
            "[2]\n"
          ]
        }
      ],
      "source": [
        "que = []\n",
        "que.insert(0,5)\n",
        "que.insert(0,2)\n",
        "print(que)\n",
        "que.pop()\n",
        "print(que)"
      ]
    },
    {
      "cell_type": "code",
      "source": [
        "from collections import deque\n",
        "\n",
        "my_que = deque()\n",
        "my_que.appendleft(5)\n",
        "my_que.appendleft(2)\n",
        "print(my_que)\n",
        "my_que.pop()\n",
        "print(my_que)"
      ],
      "metadata": {
        "colab": {
          "base_uri": "https://localhost:8080/"
        },
        "id": "c3H0Qe8oQQE0",
        "outputId": "ea5d4f0f-66fb-4db9-f48f-25910b423619"
      },
      "execution_count": null,
      "outputs": [
        {
          "output_type": "stream",
          "name": "stdout",
          "text": [
            "deque([2, 5])\n",
            "deque([2])\n"
          ]
        }
      ]
    },
    {
      "cell_type": "code",
      "source": [
        "from collections import deque\n",
        "import logging\n",
        "logging.basicConfig(level = logging.warning, format = \"%(levelname)s: %(msg)s\")\n",
        "class Cqueue:\n",
        "  def __init__(self):\n",
        "    self.container = deque()\n",
        "  def enqueue(self, value):#adding a new value to the queue\n",
        "    self.container.appendleft(value)\n",
        "  def dequeue(self):\n",
        "    try:\n",
        "      self.container.pop()\n",
        "    except:\n",
        "      logging.warning(\"Queue is empty\")\n",
        "  def peak(self):\n",
        "    try:\n",
        "      return self.container[-1]\n",
        "    except:\n",
        "      logging.warning(\"Queue is empty\")\n",
        "  def isemptty(self):\n",
        "    if len(self.container):\n",
        "      return False\n",
        "    return True\n",
        "  def __len__(self):\n",
        "    return len(self.container)\n",
        "  def __repr__(self):\n",
        "    return f\"{self.container}\"\n"
      ],
      "metadata": {
        "id": "gco7S5gYRxnP"
      },
      "execution_count": 8,
      "outputs": []
    },
    {
      "cell_type": "code",
      "source": [
        "que = Cqueue()\n",
        "que.enqueue(5)\n",
        "que.enqueue(2)\n",
        "print(que.peak())\n",
        "print(que)\n",
        "que.dequeue()\n",
        "print(que)\n"
      ],
      "metadata": {
        "colab": {
          "base_uri": "https://localhost:8080/"
        },
        "id": "bxLiwMxPc9gm",
        "outputId": "54673598-69da-48a4-9d57-407aa4f55c26"
      },
      "execution_count": 12,
      "outputs": [
        {
          "output_type": "stream",
          "name": "stdout",
          "text": [
            "5\n",
            "deque([2, 5])\n",
            "deque([2])\n"
          ]
        }
      ]
    },
    {
      "cell_type": "code",
      "source": [],
      "metadata": {
        "id": "hOpP7x-eeh38"
      },
      "execution_count": null,
      "outputs": []
    }
  ]
}