{
  "nbformat": 4,
  "nbformat_minor": 0,
  "metadata": {
    "colab": {
      "provenance": [],
      "authorship_tag": "ABX9TyMzz3tRnwt+s+2EUOFf0eCN",
      "include_colab_link": true
    },
    "kernelspec": {
      "name": "python3",
      "display_name": "Python 3"
    },
    "language_info": {
      "name": "python"
    }
  },
  "cells": [
    {
      "cell_type": "markdown",
      "metadata": {
        "id": "view-in-github",
        "colab_type": "text"
      },
      "source": [
        "<a href=\"https://colab.research.google.com/github/F19991375/Python_Advanced_Concepts/blob/main/linear_search.ipynb\" target=\"_parent\"><img src=\"https://colab.research.google.com/assets/colab-badge.svg\" alt=\"Open In Colab\"/></a>"
      ]
    },
    {
      "cell_type": "code",
      "execution_count": 1,
      "metadata": {
        "id": "9XizFCHAACS6"
      },
      "outputs": [],
      "source": [
        "from random import randint as rnd\n"
      ]
    },
    {
      "cell_type": "code",
      "source": [
        "length = 20\n",
        "_list = [rnd(0-length, length) for i in range(length)]\n",
        "\n",
        "def linear_search(_list, v):\n",
        "  for i in _list:\n",
        "    if i == v:\n",
        "      return True\n",
        "  return False\n",
        "\n"
      ],
      "metadata": {
        "id": "26ShmGoYAnnW"
      },
      "execution_count": 6,
      "outputs": []
    },
    {
      "cell_type": "code",
      "source": [
        "linear_search(_list, 10)"
      ],
      "metadata": {
        "colab": {
          "base_uri": "https://localhost:8080/"
        },
        "id": "ziSWP_vzCahs",
        "outputId": "9ba12867-63e8-47f7-8451-57061b12e6a3"
      },
      "execution_count": 7,
      "outputs": [
        {
          "output_type": "execute_result",
          "data": {
            "text/plain": [
              "False"
            ]
          },
          "metadata": {},
          "execution_count": 7
        }
      ]
    }
  ]
}