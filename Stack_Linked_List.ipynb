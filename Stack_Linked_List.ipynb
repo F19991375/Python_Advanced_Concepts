{
  "nbformat": 4,
  "nbformat_minor": 0,
  "metadata": {
    "colab": {
      "provenance": [],
      "authorship_tag": "ABX9TyNUgdrLCJCIPVLaOa58EOY5",
      "include_colab_link": true
    },
    "kernelspec": {
      "name": "python3",
      "display_name": "Python 3"
    },
    "language_info": {
      "name": "python"
    }
  },
  "cells": [
    {
      "cell_type": "markdown",
      "metadata": {
        "id": "view-in-github",
        "colab_type": "text"
      },
      "source": [
        "<a href=\"https://colab.research.google.com/github/F19991375/Python_Advanced_Concepts/blob/main/Stack_Linked_List.ipynb\" target=\"_parent\"><img src=\"https://colab.research.google.com/assets/colab-badge.svg\" alt=\"Open In Colab\"/></a>"
      ]
    },
    {
      "cell_type": "code",
      "execution_count": 1,
      "metadata": {
        "id": "PkeXZX9Oz-D-"
      },
      "outputs": [],
      "source": [
        "class Node:\n",
        "  def __init__(self, value):\n",
        "    self.value = value\n",
        "    self.next = None"
      ]
    },
    {
      "cell_type": "code",
      "source": [
        "class Cstack:\n",
        "  def __init__(self):\n",
        "    self.head = None\n",
        "    self.length = 0\n",
        "  def push(self, value):\n",
        "    new_node = Node(value)\n",
        "    if self.head:\n",
        "      new_node.next = self.head\n",
        "      self.head = new_node\n",
        "    else:\n",
        "      self.head = new_node\n",
        "    self.length += 1\n",
        "  def pop(self):\n",
        "    value = None\n",
        "    if self.head:\n",
        "      value = self.head.value\n",
        "      self.head = self.head.next\n",
        "      self.length -= 1\n",
        "    return value\n",
        "  def __repr__(self):\n",
        "    _str = \" \"\n",
        "    if self.head:\n",
        "      temp = self.head\n",
        "      while temp.next:\n",
        "        _str += str(temp.value) + \"->\"\n",
        "        temp = temp.next\n",
        "      else:\n",
        "        _str += str(temp.value)\n",
        "      return _str\n",
        "\n"
      ],
      "metadata": {
        "id": "QHTjbE_Q0Nwv"
      },
      "execution_count": 8,
      "outputs": []
    },
    {
      "cell_type": "code",
      "source": [
        "mystack = Cstack()\n",
        "mystack.push(1)\n",
        "mystack.push(2)\n",
        "mystack.push(3)\n",
        "print(mystack)\n",
        "mystack.pop()\n",
        "print(mystack)"
      ],
      "metadata": {
        "colab": {
          "base_uri": "https://localhost:8080/"
        },
        "id": "7oGN2F9m1lPP",
        "outputId": "0a97746e-31d8-40d6-cd28-815cbeadf4ef"
      },
      "execution_count": 9,
      "outputs": [
        {
          "output_type": "stream",
          "name": "stdout",
          "text": [
            " 3->2->1\n",
            " 2->1\n"
          ]
        }
      ]
    }
  ]
}