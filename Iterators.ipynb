{
  "nbformat": 4,
  "nbformat_minor": 0,
  "metadata": {
    "colab": {
      "provenance": [],
      "authorship_tag": "ABX9TyPxMgzofDAwSwzRAHyjhsqP",
      "include_colab_link": true
    },
    "kernelspec": {
      "name": "python3",
      "display_name": "Python 3"
    },
    "language_info": {
      "name": "python"
    }
  },
  "cells": [
    {
      "cell_type": "markdown",
      "metadata": {
        "id": "view-in-github",
        "colab_type": "text"
      },
      "source": [
        "<a href=\"https://colab.research.google.com/github/F19991375/Python_Advanced_Concepts/blob/main/Iterators.ipynb\" target=\"_parent\"><img src=\"https://colab.research.google.com/assets/colab-badge.svg\" alt=\"Open In Colab\"/></a>"
      ]
    },
    {
      "cell_type": "markdown",
      "source": [
        "Iterators\n"
      ],
      "metadata": {
        "id": "V5L-Wi8XR4az"
      }
    },
    {
      "cell_type": "code",
      "execution_count": 1,
      "metadata": {
        "colab": {
          "base_uri": "https://localhost:8080/"
        },
        "id": "uPD-xRKpwxt2",
        "outputId": "5e91176c-95e1-4bf8-e834-0cc4ade75b26"
      },
      "outputs": [
        {
          "output_type": "stream",
          "name": "stdout",
          "text": [
            "<list_iterator object at 0x7844a93aad40>\n",
            "\n",
            "\n",
            "1 2 3 4 "
          ]
        }
      ],
      "source": [
        "#Examples of iterators\n",
        "_list = [1, 2, 3, 4]\n",
        "myiter = iter(_list)#it is an object\n",
        "print(myiter)\n",
        "print(\"\\n\")\n",
        "while True:#iterate over the iter object\n",
        "  try:\n",
        "    print(next(myiter), end=' ')\n",
        "  except:\n",
        "    break\n"
      ]
    },
    {
      "cell_type": "code",
      "source": [
        "#Examples of iterators\n",
        "_str = input()\n",
        "print(\"\\n\")\n",
        "my_iter = iter(_str)#it is an object\n",
        "print(my_iter)\n",
        "print(\"\\n\")\n",
        "while True:\n",
        "  try:\n",
        "    print(next(my_iter), end=\" \")\n",
        "  except:\n",
        "    break\n"
      ],
      "metadata": {
        "colab": {
          "base_uri": "https://localhost:8080/"
        },
        "id": "RmONRue5RxRY",
        "outputId": "1e86028f-62ff-4ff4-d0d0-a5202e1750fa"
      },
      "execution_count": 2,
      "outputs": [
        {
          "output_type": "stream",
          "name": "stdout",
          "text": [
            "hello\n",
            "\n",
            "\n",
            "<str_iterator object at 0x7844aa267700>\n",
            "\n",
            "\n",
            "h e l l o "
          ]
        }
      ]
    },
    {
      "cell_type": "code",
      "source": [
        "#examples of iterators\n",
        "myiter = iter({'a':1, 'b':2, 'c':3}.items())\n",
        "print(myiter)\n",
        "print(\"\\n\")\n",
        "while True:\n",
        "  try:\n",
        "    print(next(myiter), end=\" \")\n",
        "  except:\n",
        "    break\n"
      ],
      "metadata": {
        "colab": {
          "base_uri": "https://localhost:8080/"
        },
        "id": "eAUgDTXVSha1",
        "outputId": "c08dd808-9ccc-4ddd-fe77-e7f123175ff9"
      },
      "execution_count": 3,
      "outputs": [
        {
          "output_type": "stream",
          "name": "stdout",
          "text": [
            "<dict_itemiterator object at 0x7844a93d18a0>\n",
            "\n",
            "\n",
            "('a', 1) ('b', 2) ('c', 3) "
          ]
        }
      ]
    },
    {
      "cell_type": "code",
      "source": [
        "#examples of iterators\n",
        "myiter = iter({'a':1, 'b':2, 'c':3}.values())\n",
        "print(myiter)\n",
        "print(\"\\n\")\n",
        "while True:\n",
        "  try:\n",
        "    print(next(myiter), end=\" \")\n",
        "  except:\n",
        "    break"
      ],
      "metadata": {
        "colab": {
          "base_uri": "https://localhost:8080/"
        },
        "id": "VguHjSyaW4DF",
        "outputId": "83670459-8b20-4b42-e440-8f304025779c"
      },
      "execution_count": 4,
      "outputs": [
        {
          "output_type": "stream",
          "name": "stdout",
          "text": [
            "<dict_valueiterator object at 0x7844a93d10d0>\n",
            "\n",
            "\n",
            "1 2 3 "
          ]
        }
      ]
    },
    {
      "cell_type": "code",
      "source": [
        "#examples of iterators\n",
        "myiter = iter({'a':1, 'b':2, 'c':3}.keys())\n",
        "print(myiter)\n",
        "print(\"\\n\")\n",
        "while True:\n",
        "  try:\n",
        "    print(next(myiter), end=\" \")\n",
        "  except:\n",
        "    break"
      ],
      "metadata": {
        "colab": {
          "base_uri": "https://localhost:8080/"
        },
        "id": "ivmy4aDBXjQU",
        "outputId": "68e6d0df-0832-4a8c-b072-3fdb67fd273f"
      },
      "execution_count": 5,
      "outputs": [
        {
          "output_type": "stream",
          "name": "stdout",
          "text": [
            "<dict_keyiterator object at 0x7844a93d2160>\n",
            "\n",
            "\n",
            "a b c "
          ]
        }
      ]
    },
    {
      "cell_type": "code",
      "source": [
        "#examples of iterators\n",
        "myiter = iter({1, 2, 3})\n",
        "print(myiter)\n",
        "print(\"\\n\")\n",
        "while True:\n",
        "  try:\n",
        "    print(next(myiter), end=\" \")\n",
        "  except:\n",
        "    break"
      ],
      "metadata": {
        "colab": {
          "base_uri": "https://localhost:8080/"
        },
        "id": "b6QF-pgIXopj",
        "outputId": "4aecd51e-601f-4111-cc7d-e859bd0c65aa"
      },
      "execution_count": 6,
      "outputs": [
        {
          "output_type": "stream",
          "name": "stdout",
          "text": [
            "<set_iterator object at 0x7844a8203280>\n",
            "\n",
            "\n",
            "1 2 3 "
          ]
        }
      ]
    },
    {
      "cell_type": "code",
      "source": [
        "#examples of iterators\n",
        "myiter = iter((1, 2, 3, 4, 5))\n",
        "print(myiter)\n",
        "print(\"\\n\")\n",
        "while True:\n",
        "  try:\n",
        "    print(next(myiter))\n",
        "  except:\n",
        "    break"
      ],
      "metadata": {
        "id": "GcMrWe-1YKLb",
        "colab": {
          "base_uri": "https://localhost:8080/"
        },
        "outputId": "43df30a8-0496-429a-b673-6624736a3fe5"
      },
      "execution_count": 7,
      "outputs": [
        {
          "output_type": "stream",
          "name": "stdout",
          "text": [
            "<tuple_iterator object at 0x7844a93abeb0>\n",
            "\n",
            "\n",
            "1\n",
            "2\n",
            "3\n",
            "4\n",
            "5\n"
          ]
        }
      ]
    },
    {
      "cell_type": "code",
      "source": [
        "class C_iterator:\n",
        "  def __iter__(self):\n",
        "    self.value = 1\n",
        "    return self\n",
        "  def __next__(self):\n",
        "    x = self.value\n",
        "    self.value += 1\n",
        "    if x >= 10:\n",
        "      raise StopIteration\n",
        "    return x"
      ],
      "metadata": {
        "id": "icGpTK3cLeuS"
      },
      "execution_count": 8,
      "outputs": []
    },
    {
      "cell_type": "code",
      "source": [
        "myiter = C_iterator().__iter__()"
      ],
      "metadata": {
        "id": "g9kO9YdBcgvh"
      },
      "execution_count": 9,
      "outputs": []
    },
    {
      "cell_type": "code",
      "source": [
        "for i in myiter:\n",
        "  print(i, end = ' ')"
      ],
      "metadata": {
        "colab": {
          "base_uri": "https://localhost:8080/"
        },
        "id": "XrKUFneZcvFV",
        "outputId": "b2eba3e9-ccef-4581-ade4-0a1f7c4f92d1"
      },
      "execution_count": 10,
      "outputs": [
        {
          "output_type": "stream",
          "name": "stdout",
          "text": [
            "1 2 3 4 5 6 7 8 9 "
          ]
        }
      ]
    },
    {
      "cell_type": "markdown",
      "source": [
        "making a class for range"
      ],
      "metadata": {
        "id": "HTMAU_fooros"
      }
    },
    {
      "cell_type": "code",
      "source": [
        "\n",
        "class C_iterator:\n",
        "  def __init__(self, start = 0, limit = None, step = 1):\n",
        "    self.start = start\n",
        "    self.limit = limit\n",
        "    self.step = step\n",
        "  def __iter__(self):\n",
        "    self.value = self.start\n",
        "    return self\n",
        "  def __next__(self):\n",
        "    x = self.value\n",
        "    if self.limit is not None and x >= self.limit:\n",
        "      raise StopIteration\n",
        "    self.value += self.step\n",
        "    return x"
      ],
      "metadata": {
        "id": "Z2WJRaH0c3IH"
      },
      "execution_count": 11,
      "outputs": []
    },
    {
      "cell_type": "code",
      "source": [
        "myiter = iter(C_iterator(0, 10, 2))"
      ],
      "metadata": {
        "id": "tAoTSo8OoP1Z"
      },
      "execution_count": 12,
      "outputs": []
    },
    {
      "cell_type": "code",
      "source": [
        "for i in myiter:\n",
        "  print(i, end = ' ')"
      ],
      "metadata": {
        "colab": {
          "base_uri": "https://localhost:8080/"
        },
        "id": "5Dc-ptzYoZx2",
        "outputId": "85dd750e-8484-4d81-83d2-63e658c8251f"
      },
      "execution_count": 13,
      "outputs": [
        {
          "output_type": "stream",
          "name": "stdout",
          "text": [
            "0 2 4 6 8 "
          ]
        }
      ]
    }
  ]
}