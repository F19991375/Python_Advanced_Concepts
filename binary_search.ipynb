{
  "nbformat": 4,
  "nbformat_minor": 0,
  "metadata": {
    "colab": {
      "provenance": [],
      "authorship_tag": "ABX9TyP2nsxd75vRUTn8UHKpEa1f",
      "include_colab_link": true
    },
    "kernelspec": {
      "name": "python3",
      "display_name": "Python 3"
    },
    "language_info": {
      "name": "python"
    }
  },
  "cells": [
    {
      "cell_type": "markdown",
      "metadata": {
        "id": "view-in-github",
        "colab_type": "text"
      },
      "source": [
        "<a href=\"https://colab.research.google.com/github/F19991375/Python_Advanced_Concepts/blob/main/binary_search.ipynb\" target=\"_parent\"><img src=\"https://colab.research.google.com/assets/colab-badge.svg\" alt=\"Open In Colab\"/></a>"
      ]
    },
    {
      "cell_type": "code",
      "execution_count": 1,
      "metadata": {
        "id": "9XizFCHAACS6"
      },
      "outputs": [],
      "source": [
        "from random import randint as rnd\n"
      ]
    },
    {
      "cell_type": "code",
      "source": [
        "length = 20\n",
        "_list = [rnd(0-length, length) for i in range(length)]\n",
        "_list = sorted(_list)\n",
        "def binary_search(_list, v):\n",
        "  if len(_list) == 1:\n",
        "    if _list[0] == v:\n",
        "      return \"Found\"\n",
        "    else:\n",
        "      return \"Not found\"\n",
        "  else:\n",
        "    Mid = len(_list) // 2\n",
        "    if _list[Mid] == v:\n",
        "      return \"Found\"\n",
        "    elif _list[Mid] > v:\n",
        "      return binary_search(_list[:Mid], v)\n",
        "    else:\n",
        "      return binary_search(_list[Mid:], v)\n",
        "\n"
      ],
      "metadata": {
        "id": "26ShmGoYAnnW"
      },
      "execution_count": 2,
      "outputs": []
    }
  ]
}