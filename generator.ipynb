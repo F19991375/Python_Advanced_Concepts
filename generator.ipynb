{
  "nbformat": 4,
  "nbformat_minor": 0,
  "metadata": {
    "colab": {
      "provenance": [],
      "authorship_tag": "ABX9TyMfFlQaVJ+2Gp0CcwyKkv0H",
      "include_colab_link": true
    },
    "kernelspec": {
      "name": "python3",
      "display_name": "Python 3"
    },
    "language_info": {
      "name": "python"
    }
  },
  "cells": [
    {
      "cell_type": "markdown",
      "metadata": {
        "id": "view-in-github",
        "colab_type": "text"
      },
      "source": [
        "<a href=\"https://colab.research.google.com/github/F19991375/Python_Advanced_Concepts/blob/main/generator.ipynb\" target=\"_parent\"><img src=\"https://colab.research.google.com/assets/colab-badge.svg\" alt=\"Open In Colab\"/></a>"
      ]
    },
    {
      "cell_type": "code",
      "execution_count": 1,
      "metadata": {
        "id": "fPoneSY90TvJ",
        "colab": {
          "base_uri": "https://localhost:8080/"
        },
        "outputId": "b1d7f1ef-9e0c-4c2c-9186-978edcafc5d5"
      },
      "outputs": [
        {
          "output_type": "stream",
          "name": "stdout",
          "text": [
            "<generator object my_generator at 0x7df8042ebd80>\n",
            "0\n",
            "1\n",
            "2\n",
            "3\n",
            "4\n"
          ]
        }
      ],
      "source": [
        "def my_generator(limit):\n",
        "  for i in range(limit):\n",
        "    yield i\n",
        "x = my_generator(5)\n",
        "print(x)# it is an object\n",
        "for i in x:\n",
        "  print(i)"
      ]
    },
    {
      "cell_type": "code",
      "source": [
        "!pip install memory_profiler"
      ],
      "metadata": {
        "colab": {
          "base_uri": "https://localhost:8080/"
        },
        "id": "cZLJqZ4u9EVy",
        "outputId": "5c1f726c-7ef2-45aa-94e2-b0530452d6f1"
      },
      "execution_count": 2,
      "outputs": [
        {
          "output_type": "stream",
          "name": "stdout",
          "text": [
            "Collecting memory_profiler\n",
            "  Downloading memory_profiler-0.61.0-py3-none-any.whl (31 kB)\n",
            "Requirement already satisfied: psutil in /usr/local/lib/python3.10/dist-packages (from memory_profiler) (5.9.5)\n",
            "Installing collected packages: memory_profiler\n",
            "Successfully installed memory_profiler-0.61.0\n"
          ]
        }
      ]
    },
    {
      "cell_type": "code",
      "source": [
        "import memory_profiler as mpf\n",
        "def mygen(limit):\n",
        "  i = 0\n",
        "  while True:\n",
        "    if i == limit:\n",
        "      break\n",
        "    yield i\n",
        "    i += 1\n",
        "\n",
        "print(mpf.memory_usage())#calculate the memory used before iteration over the iterator\n",
        "print('\\n')\n",
        "x = mygen(10)\n",
        "for i in x:\n",
        "  print(i, end = ' ')\n",
        "print('\\n')\n",
        "print(mpf.memory_usage())#calculate the memory used after iteration over the iterator"
      ],
      "metadata": {
        "colab": {
          "base_uri": "https://localhost:8080/"
        },
        "id": "DzR6ELpp-Wku",
        "outputId": "ccd27b9a-8a18-4e64-ed2a-6284a5d2cedb"
      },
      "execution_count": 3,
      "outputs": [
        {
          "output_type": "stream",
          "name": "stdout",
          "text": [
            "[94.56640625]\n",
            "\n",
            "\n",
            "0 1 2 3 4 5 6 7 8 9 \n",
            "\n",
            "[94.56640625]\n"
          ]
        }
      ]
    },
    {
      "cell_type": "markdown",
      "source": [
        "we can use generator for chunking the data in a file and optimize the usage of the memory"
      ],
      "metadata": {
        "id": "6e13J3uwaTWm"
      }
    },
    {
      "cell_type": "code",
      "source": [
        "#reading a file without using a generator\n",
        "import memory_profiler as mpf\n",
        "print(mpf.memory_usage())\n",
        "file = open('test.txt', 'r')\n",
        "content = file.read()\n",
        "counter = 0\n",
        "for i in content:\n",
        "  if i == 'H' or i == 'h':\n",
        "    counter += 1\n",
        "print(counter)\n",
        "print(mpf.memory_usage())#calculate the memory used after reading the file"
      ],
      "metadata": {
        "colab": {
          "base_uri": "https://localhost:8080/"
        },
        "id": "ZrgoIru7aHEm",
        "outputId": "ec7c4308-4bfe-419c-a740-9b94f60440bd"
      },
      "execution_count": 5,
      "outputs": [
        {
          "output_type": "stream",
          "name": "stdout",
          "text": [
            "[95.08203125]\n",
            "1751\n",
            "[95.59765625]\n"
          ]
        }
      ]
    },
    {
      "cell_type": "code",
      "source": [
        "#reading a file with using a generator\n",
        "def mygen(filename):\n",
        "  for row in open(filename, 'r'):\n",
        "    yield row\n",
        "###########################\n",
        "print(mpf.memory_usage())\n",
        "for i in mygen('test.txt'):\n",
        "  line = i\n",
        "print(mpf.memory_usage())"
      ],
      "metadata": {
        "colab": {
          "base_uri": "https://localhost:8080/"
        },
        "id": "19B8ToMhglCL",
        "outputId": "72aaf6d1-e0bd-4366-86a1-bb174c0823df"
      },
      "execution_count": 6,
      "outputs": [
        {
          "output_type": "stream",
          "name": "stdout",
          "text": [
            "[95.59765625]\n",
            "[95.59765625]\n"
          ]
        }
      ]
    }
  ]
}