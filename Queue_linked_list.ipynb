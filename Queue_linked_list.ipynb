{
  "nbformat": 4,
  "nbformat_minor": 0,
  "metadata": {
    "colab": {
      "provenance": [],
      "authorship_tag": "ABX9TyMY5IpeS/EZkzRnK4kBfGKg",
      "include_colab_link": true
    },
    "kernelspec": {
      "name": "python3",
      "display_name": "Python 3"
    },
    "language_info": {
      "name": "python"
    }
  },
  "cells": [
    {
      "cell_type": "markdown",
      "metadata": {
        "id": "view-in-github",
        "colab_type": "text"
      },
      "source": [
        "<a href=\"https://colab.research.google.com/github/F19991375/Python_Advanced_Concepts/blob/main/Queue_linked_list.ipynb\" target=\"_parent\"><img src=\"https://colab.research.google.com/assets/colab-badge.svg\" alt=\"Open In Colab\"/></a>"
      ]
    },
    {
      "cell_type": "markdown",
      "source": [
        "Making a linked list like a Queue\n"
      ],
      "metadata": {
        "id": "AME1hWZuihMR"
      }
    },
    {
      "cell_type": "code",
      "execution_count": 6,
      "metadata": {
        "id": "Ujv_s2tniTmb"
      },
      "outputs": [],
      "source": [
        "class Node:\n",
        "  def __init__(self, value):\n",
        "    self.value = value\n",
        "    self.next = None\n",
        "    self.pre = None"
      ]
    },
    {
      "cell_type": "code",
      "source": [
        "class CQueue:\n",
        "  def __init__(self):\n",
        "    self.head = None\n",
        "    self.length = 0\n",
        "    self.front = None\n",
        "\n",
        "  def enqueue(self, value):\n",
        "    new_node = Node(value)\n",
        "    if self.head:\n",
        "      new_node.next = self.head\n",
        "      self.head.pre = new_node\n",
        "      self.head = new_node\n",
        "    else:\n",
        "      self.head = new_node\n",
        "      self.front = new_node\n",
        "    self.length += 1\n",
        "\n",
        "  def dequeue(self):\n",
        "    if self.length <= 1:\n",
        "      if self.length == 0:\n",
        "        print(\"Queue is empty\")\n",
        "        pass\n",
        "      else:\n",
        "        value = self.front.value\n",
        "        self.head = None\n",
        "        self.front = None\n",
        "        self.length -= 1\n",
        "        return value\n",
        "    else:\n",
        "      value = self.front.value\n",
        "      self.front = self.front.pre\n",
        "      self.front.next = None\n",
        "      self.length -= 1\n",
        "    return value\n",
        "  def __repr__(self):\n",
        "    _str = ''\n",
        "    temp = self.head\n",
        "    while temp.next:\n",
        "      _str += str(temp.value) + '->'\n",
        "      temp = temp.next\n",
        "    else:\n",
        "      _str += str(temp.value)\n",
        "    return _str\n",
        "\n",
        "\n"
      ],
      "metadata": {
        "id": "CRi4BfuzjBH-"
      },
      "execution_count": 7,
      "outputs": []
    },
    {
      "cell_type": "code",
      "source": [
        "Q= CQueue()"
      ],
      "metadata": {
        "id": "b87vsi24k88D"
      },
      "execution_count": 29,
      "outputs": []
    },
    {
      "cell_type": "code",
      "source": [
        "Q.enqueue(1)\n",
        "Q.enqueue(2)\n",
        "Q.enqueue(3)\n",
        "Q.enqueue(4)\n",
        "Q.enqueue(5)\n",
        "Q.enqueue(6)\n"
      ],
      "metadata": {
        "id": "biLIgl1FWTRZ"
      },
      "execution_count": 30,
      "outputs": []
    },
    {
      "cell_type": "code",
      "source": [
        "print(Q)"
      ],
      "metadata": {
        "colab": {
          "base_uri": "https://localhost:8080/"
        },
        "id": "MeTUObBfWWRn",
        "outputId": "e76d3cfd-cc65-470b-ad4b-fa0ec58b8971"
      },
      "execution_count": 31,
      "outputs": [
        {
          "output_type": "stream",
          "name": "stdout",
          "text": [
            "6->5->4->3->2->1\n"
          ]
        }
      ]
    },
    {
      "cell_type": "code",
      "source": [
        "Q.dequeue()"
      ],
      "metadata": {
        "colab": {
          "base_uri": "https://localhost:8080/"
        },
        "id": "oUFnL1DyW9f5",
        "outputId": "61cc7739-22df-48e0-934f-09273ba6e6f5"
      },
      "execution_count": 32,
      "outputs": [
        {
          "output_type": "execute_result",
          "data": {
            "text/plain": [
              "1"
            ]
          },
          "metadata": {},
          "execution_count": 32
        }
      ]
    },
    {
      "cell_type": "code",
      "source": [
        "print(Q)"
      ],
      "metadata": {
        "colab": {
          "base_uri": "https://localhost:8080/"
        },
        "id": "DzqjclOoXVZR",
        "outputId": "09ddd1a7-1dbd-4f0e-e5f8-59232e1d5768"
      },
      "execution_count": 33,
      "outputs": [
        {
          "output_type": "stream",
          "name": "stdout",
          "text": [
            "6->5->4->3->2\n"
          ]
        }
      ]
    },
    {
      "cell_type": "code",
      "source": [],
      "metadata": {
        "id": "2X1mycKbXWYR"
      },
      "execution_count": null,
      "outputs": []
    }
  ]
}